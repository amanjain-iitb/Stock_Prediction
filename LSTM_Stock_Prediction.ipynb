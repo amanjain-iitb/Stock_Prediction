{
  "nbformat": 4,
  "nbformat_minor": 0,
  "metadata": {
    "colab": {
      "name": "LSTM_Stock_Prediction.ipynb",
      "provenance": [],
      "authorship_tag": "ABX9TyPejtaaKVVK12YRJRFA67Yk",
      "include_colab_link": true
    },
    "kernelspec": {
      "name": "python3",
      "display_name": "Python 3"
    },
    "language_info": {
      "name": "python"
    }
  },
  "cells": [
    {
      "cell_type": "markdown",
      "metadata": {
        "id": "view-in-github",
        "colab_type": "text"
      },
      "source": [
        "<a href=\"https://colab.research.google.com/github/amanjain-iitb/Stock_Prediction/blob/main/LSTM_Stock_Prediction.ipynb\" target=\"_parent\"><img src=\"https://colab.research.google.com/assets/colab-badge.svg\" alt=\"Open In Colab\"/></a>"
      ]
    },
    {
      "cell_type": "code",
      "metadata": {
        "id": "m-eVlgL6MFHC"
      },
      "source": [
        "import pandas as pd\n",
        "import numpy as np\n",
        "import matplotlib.pyplot as plt\n",
        "import math\n",
        "from sklearn.metrics import mean_squared_error\n",
        "from sklearn.preprocessing import MinMaxScaler\n",
        "import tensorflow as tf\n",
        "import keras\n",
        "from tensorflow.keras.models import Sequential\n",
        "from tensorflow.keras.layers import Dense\n",
        "from tensorflow.keras.layers import LSTM"
      ],
      "execution_count": null,
      "outputs": []
    },
    {
      "cell_type": "code",
      "metadata": {
        "colab": {
          "base_uri": "https://localhost:8080/"
        },
        "id": "5_VGfYJHWTU5",
        "outputId": "c63c5011-0da3-4739-bd71-bf8edbb13c9a"
      },
      "source": [
        "from google.colab import drive\n",
        "drive.mount('/content/gdrive')"
      ],
      "execution_count": null,
      "outputs": [
        {
          "output_type": "stream",
          "text": [
            "Drive already mounted at /content/gdrive; to attempt to forcibly remount, call drive.mount(\"/content/gdrive\", force_remount=True).\n"
          ],
          "name": "stdout"
        }
      ]
    },
    {
      "cell_type": "code",
      "metadata": {
        "id": "PvoD0_GzWT1j"
      },
      "source": [
        "df = pd.read_csv('/content/gdrive/My Drive/stock_data/Nifty(1.04.19-30.05.21).csv')"
      ],
      "execution_count": null,
      "outputs": []
    },
    {
      "cell_type": "code",
      "metadata": {
        "colab": {
          "base_uri": "https://localhost:8080/",
          "height": 424
        },
        "id": "A4tcHDXOWWzf",
        "outputId": "2f3d0fc0-2299-4592-ce62-8ee782fe20f4"
      },
      "source": [
        "df['Date']=pd.to_datetime(df.Date)\n",
        "df=df.set_index(pd.DatetimeIndex(df['Date'].values))\n",
        "df"
      ],
      "execution_count": null,
      "outputs": [
        {
          "output_type": "execute_result",
          "data": {
            "text/html": [
              "<div>\n",
              "<style scoped>\n",
              "    .dataframe tbody tr th:only-of-type {\n",
              "        vertical-align: middle;\n",
              "    }\n",
              "\n",
              "    .dataframe tbody tr th {\n",
              "        vertical-align: top;\n",
              "    }\n",
              "\n",
              "    .dataframe thead th {\n",
              "        text-align: right;\n",
              "    }\n",
              "</style>\n",
              "<table border=\"1\" class=\"dataframe\">\n",
              "  <thead>\n",
              "    <tr style=\"text-align: right;\">\n",
              "      <th></th>\n",
              "      <th>Date</th>\n",
              "      <th>Open</th>\n",
              "      <th>High</th>\n",
              "      <th>Low</th>\n",
              "      <th>Close</th>\n",
              "      <th>Volume</th>\n",
              "    </tr>\n",
              "  </thead>\n",
              "  <tbody>\n",
              "    <tr>\n",
              "      <th>2019-04-01</th>\n",
              "      <td>2019-04-01</td>\n",
              "      <td>11665.20</td>\n",
              "      <td>11738.10</td>\n",
              "      <td>11644.75</td>\n",
              "      <td>11669.15</td>\n",
              "      <td>379572660</td>\n",
              "    </tr>\n",
              "    <tr>\n",
              "      <th>2019-04-02</th>\n",
              "      <td>2019-04-02</td>\n",
              "      <td>11711.55</td>\n",
              "      <td>11729.35</td>\n",
              "      <td>11655.85</td>\n",
              "      <td>11713.20</td>\n",
              "      <td>386131413</td>\n",
              "    </tr>\n",
              "    <tr>\n",
              "      <th>2019-04-03</th>\n",
              "      <td>2019-04-03</td>\n",
              "      <td>11735.30</td>\n",
              "      <td>11761.00</td>\n",
              "      <td>11629.15</td>\n",
              "      <td>11643.95</td>\n",
              "      <td>365760070</td>\n",
              "    </tr>\n",
              "    <tr>\n",
              "      <th>2019-04-04</th>\n",
              "      <td>2019-04-04</td>\n",
              "      <td>11660.20</td>\n",
              "      <td>11662.55</td>\n",
              "      <td>11559.20</td>\n",
              "      <td>11598.00</td>\n",
              "      <td>349029830</td>\n",
              "    </tr>\n",
              "    <tr>\n",
              "      <th>2019-04-05</th>\n",
              "      <td>2019-04-05</td>\n",
              "      <td>11638.40</td>\n",
              "      <td>11689.65</td>\n",
              "      <td>11609.50</td>\n",
              "      <td>11665.95</td>\n",
              "      <td>266665797</td>\n",
              "    </tr>\n",
              "    <tr>\n",
              "      <th>...</th>\n",
              "      <td>...</td>\n",
              "      <td>...</td>\n",
              "      <td>...</td>\n",
              "      <td>...</td>\n",
              "      <td>...</td>\n",
              "      <td>...</td>\n",
              "    </tr>\n",
              "    <tr>\n",
              "      <th>2021-06-24</th>\n",
              "      <td>2021-06-24</td>\n",
              "      <td>15737.30</td>\n",
              "      <td>15821.40</td>\n",
              "      <td>15702.70</td>\n",
              "      <td>15790.45</td>\n",
              "      <td>316662241</td>\n",
              "    </tr>\n",
              "    <tr>\n",
              "      <th>2021-06-25</th>\n",
              "      <td>2021-06-25</td>\n",
              "      <td>15839.35</td>\n",
              "      <td>15870.80</td>\n",
              "      <td>15772.30</td>\n",
              "      <td>15860.35</td>\n",
              "      <td>314614380</td>\n",
              "    </tr>\n",
              "    <tr>\n",
              "      <th>2021-06-28</th>\n",
              "      <td>2021-06-28</td>\n",
              "      <td>15915.35</td>\n",
              "      <td>15915.65</td>\n",
              "      <td>15792.15</td>\n",
              "      <td>15814.70</td>\n",
              "      <td>255099272</td>\n",
              "    </tr>\n",
              "    <tr>\n",
              "      <th>2021-06-29</th>\n",
              "      <td>2021-06-29</td>\n",
              "      <td>15807.50</td>\n",
              "      <td>15835.90</td>\n",
              "      <td>15724.05</td>\n",
              "      <td>15748.45</td>\n",
              "      <td>360334724</td>\n",
              "    </tr>\n",
              "    <tr>\n",
              "      <th>2021-06-30</th>\n",
              "      <td>2021-06-30</td>\n",
              "      <td>15776.90</td>\n",
              "      <td>15839.10</td>\n",
              "      <td>15708.75</td>\n",
              "      <td>15721.50</td>\n",
              "      <td>262386323</td>\n",
              "    </tr>\n",
              "  </tbody>\n",
              "</table>\n",
              "<p>557 rows × 6 columns</p>\n",
              "</div>"
            ],
            "text/plain": [
              "                 Date      Open      High       Low     Close     Volume\n",
              "2019-04-01 2019-04-01  11665.20  11738.10  11644.75  11669.15  379572660\n",
              "2019-04-02 2019-04-02  11711.55  11729.35  11655.85  11713.20  386131413\n",
              "2019-04-03 2019-04-03  11735.30  11761.00  11629.15  11643.95  365760070\n",
              "2019-04-04 2019-04-04  11660.20  11662.55  11559.20  11598.00  349029830\n",
              "2019-04-05 2019-04-05  11638.40  11689.65  11609.50  11665.95  266665797\n",
              "...               ...       ...       ...       ...       ...        ...\n",
              "2021-06-24 2021-06-24  15737.30  15821.40  15702.70  15790.45  316662241\n",
              "2021-06-25 2021-06-25  15839.35  15870.80  15772.30  15860.35  314614380\n",
              "2021-06-28 2021-06-28  15915.35  15915.65  15792.15  15814.70  255099272\n",
              "2021-06-29 2021-06-29  15807.50  15835.90  15724.05  15748.45  360334724\n",
              "2021-06-30 2021-06-30  15776.90  15839.10  15708.75  15721.50  262386323\n",
              "\n",
              "[557 rows x 6 columns]"
            ]
          },
          "metadata": {
            "tags": []
          },
          "execution_count": 4
        }
      ]
    },
    {
      "cell_type": "code",
      "metadata": {
        "id": "Art-Ils1uPG4"
      },
      "source": [
        "X=df.reset_index()['Close']"
      ],
      "execution_count": null,
      "outputs": []
    },
    {
      "cell_type": "code",
      "metadata": {
        "id": "DUhMaYTNZiNK"
      },
      "source": [
        "scaler = MinMaxScaler(feature_range=(0,1))\n",
        "X=scaler.fit_transform(np.array(X).reshape(-1,1))"
      ],
      "execution_count": null,
      "outputs": []
    },
    {
      "cell_type": "code",
      "metadata": {
        "id": "jS6k1C0Fe1-N"
      },
      "source": [
        "trainlen=math.floor(len(X)*0.6)\n",
        "length=len(X)"
      ],
      "execution_count": null,
      "outputs": []
    },
    {
      "cell_type": "code",
      "metadata": {
        "id": "08UkiVxzco4q",
        "colab": {
          "base_uri": "https://localhost:8080/"
        },
        "outputId": "272c4865-ce1f-4d88-e0d9-86262b854fd5"
      },
      "source": [
        "train = X[0:trainlen,:]\n",
        "test = X[trainlen:length,:1]\n",
        "test"
      ],
      "execution_count": null,
      "outputs": [
        {
          "output_type": "execute_result",
          "data": {
            "text/plain": [
              "array([[0.44314082],\n",
              "       [0.44947936],\n",
              "       [0.44777213],\n",
              "       [0.44680954],\n",
              "       [0.43203172],\n",
              "       [0.44034992],\n",
              "       [0.45708924],\n",
              "       [0.45988013],\n",
              "       [0.44823223],\n",
              "       [0.45542439],\n",
              "       [0.46690883],\n",
              "       [0.46761109],\n",
              "       [0.47697663],\n",
              "       [0.47814505],\n",
              "       [0.48884247],\n",
              "       [0.45734956],\n",
              "       [0.46736893],\n",
              "       [0.47520886],\n",
              "       [0.47429471],\n",
              "       [0.45085361],\n",
              "       [0.45342051],\n",
              "       [0.44885579],\n",
              "       [0.44409129],\n",
              "       [0.46482625],\n",
              "       [0.46666667],\n",
              "       [0.46371231],\n",
              "       [0.47361061],\n",
              "       [0.48362998],\n",
              "       [0.47292045],\n",
              "       [0.47157041],\n",
              "       [0.44076765],\n",
              "       [0.42903499],\n",
              "       [0.42639545],\n",
              "       [0.38688703],\n",
              "       [0.41651532],\n",
              "       [0.43798281],\n",
              "       [0.43735924],\n",
              "       [0.44040441],\n",
              "       [0.46091537],\n",
              "       [0.47137668],\n",
              "       [0.49063446],\n",
              "       [0.49989103],\n",
              "       [0.51148444],\n",
              "       [0.52112241],\n",
              "       [0.5231505 ],\n",
              "       [0.52358034],\n",
              "       [0.52800581],\n",
              "       [0.49280785],\n",
              "       [0.50274852],\n",
              "       [0.51613997],\n",
              "       [0.51901562],\n",
              "       [0.52396174],\n",
              "       [0.51897324],\n",
              "       [0.52307785],\n",
              "       [0.50339024],\n",
              "       [0.51811963],\n",
              "       [0.49877104],\n",
              "       [0.49165153],\n",
              "       [0.48821286],\n",
              "       [0.49145175],\n",
              "       [0.50892965],\n",
              "       [0.52043226],\n",
              "       [0.54607701],\n",
              "       [0.56342172],\n",
              "       [0.58733503],\n",
              "       [0.60792469],\n",
              "       [0.62221819],\n",
              "       [0.61515317],\n",
              "       [0.61868265],\n",
              "       [0.62598378],\n",
              "       [0.63735924],\n",
              "       [0.64511442],\n",
              "       [0.62494854],\n",
              "       [0.63552488],\n",
              "       [0.64368568],\n",
              "       [0.65926868],\n",
              "       [0.63544618],\n",
              "       [0.65101707],\n",
              "       [0.64883158],\n",
              "       [0.66579489],\n",
              "       [0.66636397],\n",
              "       [0.66880373],\n",
              "       [0.68389636],\n",
              "       [0.69566533],\n",
              "       [0.70016951],\n",
              "       [0.71665456],\n",
              "       [0.71050369],\n",
              "       [0.71480809],\n",
              "       [0.72017193],\n",
              "       [0.72134641],\n",
              "       [0.73525245],\n",
              "       [0.74227509],\n",
              "       [0.74467853],\n",
              "       [0.6923538 ],\n",
              "       [0.70905073],\n",
              "       [0.72537232],\n",
              "       [0.74331033],\n",
              "       [0.7583182 ],\n",
              "       [0.76551035],\n",
              "       [0.77148565],\n",
              "       [0.77146144],\n",
              "       [0.77591113],\n",
              "       [0.78976268],\n",
              "       [0.79782661],\n",
              "       [0.7913791 ],\n",
              "       [0.79030149],\n",
              "       [0.81571619],\n",
              "       [0.83236469],\n",
              "       [0.84189369],\n",
              "       [0.8420632 ],\n",
              "       [0.84578641],\n",
              "       [0.82618356],\n",
              "       [0.80773096],\n",
              "       [0.83677201],\n",
              "       [0.85173144],\n",
              "       [0.84515074],\n",
              "       [0.81870081],\n",
              "       [0.80259717],\n",
              "       [0.76973605],\n",
              "       [0.75158009],\n",
              "       [0.7294285 ],\n",
              "       [0.80771885],\n",
              "       [0.85211285],\n",
              "       [0.86931832],\n",
              "       [0.88211648],\n",
              "       [0.88557937],\n",
              "       [0.90877225],\n",
              "       [0.90798523],\n",
              "       [0.9076462 ],\n",
              "       [0.91573435],\n",
              "       [0.91452355],\n",
              "       [0.93285507],\n",
              "       [0.93270372],\n",
              "       [0.9200448 ],\n",
              "       [0.90915365],\n",
              "       [0.89254147],\n",
              "       [0.85548493],\n",
              "       [0.85937159],\n",
              "       [0.89257174],\n",
              "       [0.90653832],\n",
              "       [0.83774065],\n",
              "       [0.86587965],\n",
              "       [0.88495581],\n",
              "       [0.92448844],\n",
              "       [0.90452839],\n",
              "       [0.88725633],\n",
              "       [0.88944788],\n",
              "       [0.90666546],\n",
              "       [0.91591597],\n",
              "       [0.89849861],\n",
              "       [0.88621504],\n",
              "       [0.88390846],\n",
              "       [0.86100618],\n",
              "       [0.84121564],\n",
              "       [0.86375469],\n",
              "       [0.86283448],\n",
              "       [0.8723211 ],\n",
              "       [0.84019252],\n",
              "       [0.81301005],\n",
              "       [0.83509505],\n",
              "       [0.87599588],\n",
              "       [0.85730113],\n",
              "       [0.87868991],\n",
              "       [0.85089599],\n",
              "       [0.85642935],\n",
              "       [0.87284175],\n",
              "       [0.87947088],\n",
              "       [0.87475481],\n",
              "       [0.81130282],\n",
              "       [0.83479235],\n",
              "       [0.84407313],\n",
              "       [0.84848045],\n",
              "       [0.81719336],\n",
              "       [0.80955927],\n",
              "       [0.8228478 ],\n",
              "       [0.81500182],\n",
              "       [0.83239496],\n",
              "       [0.85274246],\n",
              "       [0.87835089],\n",
              "       [0.88202567],\n",
              "       [0.85008476],\n",
              "       [0.85045405],\n",
              "       [0.83378738],\n",
              "       [0.84848045],\n",
              "       [0.86142996],\n",
              "       [0.87333818],\n",
              "       [0.88777092],\n",
              "       [0.87667999],\n",
              "       [0.85800339],\n",
              "       [0.85573919],\n",
              "       [0.88544618],\n",
              "       [0.90783993],\n",
              "       [0.89840174],\n",
              "       [0.88337571],\n",
              "       [0.91597651],\n",
              "       [0.9186887 ],\n",
              "       [0.91999031],\n",
              "       [0.93125076],\n",
              "       [0.93565807],\n",
              "       [0.9474997 ],\n",
              "       [0.96531662],\n",
              "       [0.96435404],\n",
              "       [0.9645175 ],\n",
              "       [0.97833878],\n",
              "       [0.97590507],\n",
              "       [0.98576099],\n",
              "       [0.98436251],\n",
              "       [0.97167938],\n",
              "       [0.98407798],\n",
              "       [0.99153651],\n",
              "       [0.99305001],\n",
              "       [1.        ],\n",
              "       [0.98768616],\n",
              "       [0.97846592],\n",
              "       [0.97749122],\n",
              "       [0.98513743],\n",
              "       [0.98831578],\n",
              "       [0.97792711],\n",
              "       [0.99045889],\n",
              "       [0.99892239],\n",
              "       [0.99339508],\n",
              "       [0.98537353],\n",
              "       [0.98211042]])"
            ]
          },
          "metadata": {
            "tags": []
          },
          "execution_count": 8
        }
      ]
    },
    {
      "cell_type": "code",
      "metadata": {
        "id": "p3ujUl2XeaD-"
      },
      "source": [
        "def create_dataset(dataset, time_step=1):\n",
        "\tdataX, dataY = [], []\n",
        "\tfor i in range(len(dataset)-time_step-1):\n",
        "\t\ta = dataset[i:(i+time_step), 0]   ###i=0, 0,1,2,3-----99   100 \n",
        "\t\tdataX.append(a)\n",
        "\t\tdataY.append(dataset[i + time_step, 0])\n",
        "\treturn np.array(dataX), np.array(dataY)"
      ],
      "execution_count": null,
      "outputs": []
    },
    {
      "cell_type": "code",
      "metadata": {
        "id": "HoW5rgMwpPDh"
      },
      "source": [
        "time_step = 100\n",
        "X_train, y_train = create_dataset(train, time_step)\n",
        "X_test, ytest = create_dataset(test, time_step)"
      ],
      "execution_count": null,
      "outputs": []
    },
    {
      "cell_type": "code",
      "metadata": {
        "id": "zJSSNvjuuwD-"
      },
      "source": [
        "X_train =X_train.reshape(X_train.shape[0],X_train.shape[1] , 1)\n",
        "X_test = X_test.reshape(X_test.shape[0],X_test.shape[1] , 1)"
      ],
      "execution_count": null,
      "outputs": []
    },
    {
      "cell_type": "code",
      "metadata": {
        "id": "prSXexL3uymL"
      },
      "source": [
        "model=Sequential()\n",
        "model.add(LSTM(50,return_sequences=True,input_shape=(100,1)))\n",
        "model.add(LSTM(50,return_sequences=True))\n",
        "model.add(LSTM(50))\n",
        "model.add(Dense(1))\n",
        "model.compile(loss='mean_squared_error',optimizer='adam')"
      ],
      "execution_count": null,
      "outputs": []
    },
    {
      "cell_type": "code",
      "metadata": {
        "colab": {
          "base_uri": "https://localhost:8080/"
        },
        "id": "4ZF-ARhhvBd3",
        "outputId": "83cce1bf-56a8-47fa-f820-420d4e08cc47"
      },
      "source": [
        "model.summary()"
      ],
      "execution_count": null,
      "outputs": [
        {
          "output_type": "stream",
          "text": [
            "Model: \"sequential\"\n",
            "_________________________________________________________________\n",
            "Layer (type)                 Output Shape              Param #   \n",
            "=================================================================\n",
            "lstm (LSTM)                  (None, 100, 50)           10400     \n",
            "_________________________________________________________________\n",
            "lstm_1 (LSTM)                (None, 100, 50)           20200     \n",
            "_________________________________________________________________\n",
            "lstm_2 (LSTM)                (None, 50)                20200     \n",
            "_________________________________________________________________\n",
            "dense (Dense)                (None, 1)                 51        \n",
            "=================================================================\n",
            "Total params: 50,851\n",
            "Trainable params: 50,851\n",
            "Non-trainable params: 0\n",
            "_________________________________________________________________\n"
          ],
          "name": "stdout"
        }
      ]
    },
    {
      "cell_type": "code",
      "metadata": {
        "colab": {
          "base_uri": "https://localhost:8080/"
        },
        "id": "K5HNB0VyvB1z",
        "outputId": "32a98dfe-8305-41d8-ad28-fad74eaa7a9e"
      },
      "source": [
        "model.fit(X_train,y_train,validation_data=(X_test,ytest),epochs=100,batch_size=64,verbose=1)"
      ],
      "execution_count": null,
      "outputs": [
        {
          "output_type": "stream",
          "text": [
            "Epoch 1/100\n",
            "4/4 [==============================] - 7s 524ms/step - loss: 0.0959 - val_loss: 0.0351\n",
            "Epoch 2/100\n",
            "4/4 [==============================] - 1s 172ms/step - loss: 0.0277 - val_loss: 0.0055\n",
            "Epoch 3/100\n",
            "4/4 [==============================] - 1s 179ms/step - loss: 0.0113 - val_loss: 0.1162\n",
            "Epoch 4/100\n",
            "4/4 [==============================] - 1s 173ms/step - loss: 0.0164 - val_loss: 0.1068\n",
            "Epoch 5/100\n",
            "4/4 [==============================] - 1s 177ms/step - loss: 0.0104 - val_loss: 0.0393\n",
            "Epoch 6/100\n",
            "4/4 [==============================] - 1s 177ms/step - loss: 0.0076 - val_loss: 0.0157\n",
            "Epoch 7/100\n",
            "4/4 [==============================] - 1s 174ms/step - loss: 0.0091 - val_loss: 0.0322\n",
            "Epoch 8/100\n",
            "4/4 [==============================] - 1s 176ms/step - loss: 0.0068 - val_loss: 0.0550\n",
            "Epoch 9/100\n",
            "4/4 [==============================] - 1s 190ms/step - loss: 0.0073 - val_loss: 0.0514\n",
            "Epoch 10/100\n",
            "4/4 [==============================] - 1s 183ms/step - loss: 0.0067 - val_loss: 0.0298\n",
            "Epoch 11/100\n",
            "4/4 [==============================] - 1s 175ms/step - loss: 0.0063 - val_loss: 0.0229\n",
            "Epoch 12/100\n",
            "4/4 [==============================] - 1s 175ms/step - loss: 0.0061 - val_loss: 0.0278\n",
            "Epoch 13/100\n",
            "4/4 [==============================] - 1s 176ms/step - loss: 0.0058 - val_loss: 0.0320\n",
            "Epoch 14/100\n",
            "4/4 [==============================] - 1s 170ms/step - loss: 0.0058 - val_loss: 0.0254\n",
            "Epoch 15/100\n",
            "4/4 [==============================] - 1s 177ms/step - loss: 0.0055 - val_loss: 0.0156\n",
            "Epoch 16/100\n",
            "4/4 [==============================] - 1s 173ms/step - loss: 0.0053 - val_loss: 0.0170\n",
            "Epoch 17/100\n",
            "4/4 [==============================] - 1s 172ms/step - loss: 0.0050 - val_loss: 0.0161\n",
            "Epoch 18/100\n",
            "4/4 [==============================] - 1s 177ms/step - loss: 0.0049 - val_loss: 0.0126\n",
            "Epoch 19/100\n",
            "4/4 [==============================] - 1s 173ms/step - loss: 0.0047 - val_loss: 0.0104\n",
            "Epoch 20/100\n",
            "4/4 [==============================] - 1s 181ms/step - loss: 0.0045 - val_loss: 0.0117\n",
            "Epoch 21/100\n",
            "4/4 [==============================] - 1s 179ms/step - loss: 0.0044 - val_loss: 0.0082\n",
            "Epoch 22/100\n",
            "4/4 [==============================] - 1s 175ms/step - loss: 0.0042 - val_loss: 0.0069\n",
            "Epoch 23/100\n",
            "4/4 [==============================] - 1s 177ms/step - loss: 0.0040 - val_loss: 0.0086\n",
            "Epoch 24/100\n",
            "4/4 [==============================] - 1s 180ms/step - loss: 0.0038 - val_loss: 0.0053\n",
            "Epoch 25/100\n",
            "4/4 [==============================] - 1s 176ms/step - loss: 0.0036 - val_loss: 0.0101\n",
            "Epoch 26/100\n",
            "4/4 [==============================] - 1s 174ms/step - loss: 0.0036 - val_loss: 0.0060\n",
            "Epoch 27/100\n",
            "4/4 [==============================] - 1s 182ms/step - loss: 0.0035 - val_loss: 0.0065\n",
            "Epoch 28/100\n",
            "4/4 [==============================] - 1s 176ms/step - loss: 0.0031 - val_loss: 0.0101\n",
            "Epoch 29/100\n",
            "4/4 [==============================] - 1s 173ms/step - loss: 0.0031 - val_loss: 0.0051\n",
            "Epoch 30/100\n",
            "4/4 [==============================] - 1s 173ms/step - loss: 0.0030 - val_loss: 0.0082\n",
            "Epoch 31/100\n",
            "4/4 [==============================] - 1s 189ms/step - loss: 0.0028 - val_loss: 0.0037\n",
            "Epoch 32/100\n",
            "4/4 [==============================] - 1s 177ms/step - loss: 0.0027 - val_loss: 0.0089\n",
            "Epoch 33/100\n",
            "4/4 [==============================] - 1s 173ms/step - loss: 0.0027 - val_loss: 0.0024\n",
            "Epoch 34/100\n",
            "4/4 [==============================] - 1s 174ms/step - loss: 0.0026 - val_loss: 0.0105\n",
            "Epoch 35/100\n",
            "4/4 [==============================] - 1s 175ms/step - loss: 0.0027 - val_loss: 0.0019\n",
            "Epoch 36/100\n",
            "4/4 [==============================] - 1s 184ms/step - loss: 0.0026 - val_loss: 0.0049\n",
            "Epoch 37/100\n",
            "4/4 [==============================] - 1s 183ms/step - loss: 0.0025 - val_loss: 0.0020\n",
            "Epoch 38/100\n",
            "4/4 [==============================] - 1s 178ms/step - loss: 0.0025 - val_loss: 0.0020\n",
            "Epoch 39/100\n",
            "4/4 [==============================] - 1s 177ms/step - loss: 0.0025 - val_loss: 0.0033\n",
            "Epoch 40/100\n",
            "4/4 [==============================] - 1s 188ms/step - loss: 0.0024 - val_loss: 0.0031\n",
            "Epoch 41/100\n",
            "4/4 [==============================] - 1s 175ms/step - loss: 0.0023 - val_loss: 0.0023\n",
            "Epoch 42/100\n",
            "4/4 [==============================] - 1s 180ms/step - loss: 0.0021 - val_loss: 0.0041\n",
            "Epoch 43/100\n",
            "4/4 [==============================] - 1s 178ms/step - loss: 0.0021 - val_loss: 0.0024\n",
            "Epoch 44/100\n",
            "4/4 [==============================] - 1s 178ms/step - loss: 0.0019 - val_loss: 0.0092\n",
            "Epoch 45/100\n",
            "4/4 [==============================] - 1s 175ms/step - loss: 0.0018 - val_loss: 0.0047\n",
            "Epoch 46/100\n",
            "4/4 [==============================] - 1s 175ms/step - loss: 0.0019 - val_loss: 0.0069\n",
            "Epoch 47/100\n",
            "4/4 [==============================] - 1s 179ms/step - loss: 0.0018 - val_loss: 0.0154\n",
            "Epoch 48/100\n",
            "4/4 [==============================] - 1s 176ms/step - loss: 0.0018 - val_loss: 0.0066\n",
            "Epoch 49/100\n",
            "4/4 [==============================] - 1s 173ms/step - loss: 0.0017 - val_loss: 0.0124\n",
            "Epoch 50/100\n",
            "4/4 [==============================] - 1s 180ms/step - loss: 0.0017 - val_loss: 0.0239\n",
            "Epoch 51/100\n",
            "4/4 [==============================] - 1s 172ms/step - loss: 0.0017 - val_loss: 0.0049\n",
            "Epoch 52/100\n",
            "4/4 [==============================] - 1s 168ms/step - loss: 0.0017 - val_loss: 0.0204\n",
            "Epoch 53/100\n",
            "4/4 [==============================] - 1s 179ms/step - loss: 0.0016 - val_loss: 0.0219\n",
            "Epoch 54/100\n",
            "4/4 [==============================] - 1s 171ms/step - loss: 0.0015 - val_loss: 0.0145\n",
            "Epoch 55/100\n",
            "4/4 [==============================] - 1s 173ms/step - loss: 0.0014 - val_loss: 0.0301\n",
            "Epoch 56/100\n",
            "4/4 [==============================] - 1s 178ms/step - loss: 0.0014 - val_loss: 0.0206\n",
            "Epoch 57/100\n",
            "4/4 [==============================] - 1s 196ms/step - loss: 0.0014 - val_loss: 0.0137\n",
            "Epoch 58/100\n",
            "4/4 [==============================] - 1s 182ms/step - loss: 0.0014 - val_loss: 0.0363\n",
            "Epoch 59/100\n",
            "4/4 [==============================] - 1s 184ms/step - loss: 0.0014 - val_loss: 0.0272\n",
            "Epoch 60/100\n",
            "4/4 [==============================] - 1s 177ms/step - loss: 0.0013 - val_loss: 0.0167\n",
            "Epoch 61/100\n",
            "4/4 [==============================] - 1s 177ms/step - loss: 0.0014 - val_loss: 0.0237\n",
            "Epoch 62/100\n",
            "4/4 [==============================] - 1s 178ms/step - loss: 0.0013 - val_loss: 0.0355\n",
            "Epoch 63/100\n",
            "4/4 [==============================] - 1s 178ms/step - loss: 0.0014 - val_loss: 0.0238\n",
            "Epoch 64/100\n",
            "4/4 [==============================] - 1s 195ms/step - loss: 0.0012 - val_loss: 0.0094\n",
            "Epoch 65/100\n",
            "4/4 [==============================] - 1s 179ms/step - loss: 0.0015 - val_loss: 0.0328\n",
            "Epoch 66/100\n",
            "4/4 [==============================] - 1s 176ms/step - loss: 0.0013 - val_loss: 0.0621\n",
            "Epoch 67/100\n",
            "4/4 [==============================] - 1s 187ms/step - loss: 0.0015 - val_loss: 0.0113\n",
            "Epoch 68/100\n",
            "4/4 [==============================] - 1s 180ms/step - loss: 0.0013 - val_loss: 0.0294\n",
            "Epoch 69/100\n",
            "4/4 [==============================] - 1s 183ms/step - loss: 0.0012 - val_loss: 0.0273\n",
            "Epoch 70/100\n",
            "4/4 [==============================] - 1s 186ms/step - loss: 0.0013 - val_loss: 0.0184\n",
            "Epoch 71/100\n",
            "4/4 [==============================] - 1s 184ms/step - loss: 0.0014 - val_loss: 0.0422\n",
            "Epoch 72/100\n",
            "4/4 [==============================] - 1s 184ms/step - loss: 0.0012 - val_loss: 0.0328\n",
            "Epoch 73/100\n",
            "4/4 [==============================] - 1s 189ms/step - loss: 0.0012 - val_loss: 0.0201\n",
            "Epoch 74/100\n",
            "4/4 [==============================] - 1s 174ms/step - loss: 0.0011 - val_loss: 0.0291\n",
            "Epoch 75/100\n",
            "4/4 [==============================] - 1s 183ms/step - loss: 0.0011 - val_loss: 0.0313\n",
            "Epoch 76/100\n",
            "4/4 [==============================] - 1s 175ms/step - loss: 0.0012 - val_loss: 0.0338\n",
            "Epoch 77/100\n",
            "4/4 [==============================] - 1s 174ms/step - loss: 0.0011 - val_loss: 0.0321\n",
            "Epoch 78/100\n",
            "4/4 [==============================] - 1s 174ms/step - loss: 0.0011 - val_loss: 0.0202\n",
            "Epoch 79/100\n",
            "4/4 [==============================] - 1s 176ms/step - loss: 0.0012 - val_loss: 0.0287\n",
            "Epoch 80/100\n",
            "4/4 [==============================] - 1s 180ms/step - loss: 0.0011 - val_loss: 0.0259\n",
            "Epoch 81/100\n",
            "4/4 [==============================] - 1s 182ms/step - loss: 0.0011 - val_loss: 0.0169\n",
            "Epoch 82/100\n",
            "4/4 [==============================] - 1s 176ms/step - loss: 0.0011 - val_loss: 0.0276\n",
            "Epoch 83/100\n",
            "4/4 [==============================] - 1s 173ms/step - loss: 0.0012 - val_loss: 0.0313\n",
            "Epoch 84/100\n",
            "4/4 [==============================] - 1s 172ms/step - loss: 0.0013 - val_loss: 0.0109\n",
            "Epoch 85/100\n",
            "4/4 [==============================] - 1s 181ms/step - loss: 0.0014 - val_loss: 0.0603\n",
            "Epoch 86/100\n",
            "4/4 [==============================] - 1s 176ms/step - loss: 0.0018 - val_loss: 0.0218\n",
            "Epoch 87/100\n",
            "4/4 [==============================] - 1s 172ms/step - loss: 0.0019 - val_loss: 0.0110\n",
            "Epoch 88/100\n",
            "4/4 [==============================] - 1s 188ms/step - loss: 0.0019 - val_loss: 0.0540\n",
            "Epoch 89/100\n",
            "4/4 [==============================] - 1s 181ms/step - loss: 0.0015 - val_loss: 0.0099\n",
            "Epoch 90/100\n",
            "4/4 [==============================] - 1s 174ms/step - loss: 0.0014 - val_loss: 0.0491\n",
            "Epoch 91/100\n",
            "4/4 [==============================] - 1s 175ms/step - loss: 0.0012 - val_loss: 0.0135\n",
            "Epoch 92/100\n",
            "4/4 [==============================] - 1s 179ms/step - loss: 0.0012 - val_loss: 0.0310\n",
            "Epoch 93/100\n",
            "4/4 [==============================] - 1s 176ms/step - loss: 0.0011 - val_loss: 0.0295\n",
            "Epoch 94/100\n",
            "4/4 [==============================] - 1s 176ms/step - loss: 0.0011 - val_loss: 0.0234\n",
            "Epoch 95/100\n",
            "4/4 [==============================] - 1s 178ms/step - loss: 0.0011 - val_loss: 0.0241\n",
            "Epoch 96/100\n",
            "4/4 [==============================] - 1s 180ms/step - loss: 0.0010 - val_loss: 0.0327\n",
            "Epoch 97/100\n",
            "4/4 [==============================] - 1s 180ms/step - loss: 0.0011 - val_loss: 0.0229\n",
            "Epoch 98/100\n",
            "4/4 [==============================] - 1s 178ms/step - loss: 0.0010 - val_loss: 0.0256\n",
            "Epoch 99/100\n",
            "4/4 [==============================] - 1s 175ms/step - loss: 9.8371e-04 - val_loss: 0.0295\n",
            "Epoch 100/100\n",
            "4/4 [==============================] - 1s 180ms/step - loss: 0.0010 - val_loss: 0.0251\n"
          ],
          "name": "stdout"
        },
        {
          "output_type": "execute_result",
          "data": {
            "text/plain": [
              "<tensorflow.python.keras.callbacks.History at 0x7f27bc7e5690>"
            ]
          },
          "metadata": {
            "tags": []
          },
          "execution_count": 14
        }
      ]
    },
    {
      "cell_type": "code",
      "metadata": {
        "id": "6b23Fo8lvERJ"
      },
      "source": [
        "train_predict=model.predict(X_train)\n",
        "test_predict=model.predict(X_test)\n",
        "train_predict=scaler.inverse_transform(train_predict)\n",
        "test_predict=scaler.inverse_transform(test_predict)"
      ],
      "execution_count": null,
      "outputs": []
    },
    {
      "cell_type": "code",
      "metadata": {
        "colab": {
          "base_uri": "https://localhost:8080/"
        },
        "id": "MeCH-hk3vTSD",
        "outputId": "9df7cf1c-0e47-4a09-b413-4417e836c86f"
      },
      "source": [
        "math.sqrt(mean_squared_error(y_train,train_predict))"
      ],
      "execution_count": null,
      "outputs": [
        {
          "output_type": "execute_result",
          "data": {
            "text/plain": [
              "10927.287932429454"
            ]
          },
          "metadata": {
            "tags": []
          },
          "execution_count": 16
        }
      ]
    },
    {
      "cell_type": "code",
      "metadata": {
        "colab": {
          "base_uri": "https://localhost:8080/",
          "height": 265
        },
        "id": "_I1F_2scvgb5",
        "outputId": "c88868b9-fd30-453c-91c7-f3d34a624437"
      },
      "source": [
        "look_back = time_step\n",
        "trainPredictPlot = np.empty_like(X)\n",
        "trainPredictPlot[:, :] = np.nan\n",
        "trainPredictPlot[look_back:len(train_predict)+look_back, :] = train_predict\n",
        "testPredictPlot = np.empty_like(X)\n",
        "testPredictPlot[:, :] = np.nan\n",
        "testPredictPlot[len(train_predict)+(look_back*2)+1:len(X)-1, :] = test_predict\n",
        "plt.plot(scaler.inverse_transform(X))\n",
        "plt.plot(trainPredictPlot)\n",
        "plt.plot(testPredictPlot)\n",
        "plt.show()"
      ],
      "execution_count": null,
      "outputs": [
        {
          "output_type": "display_data",
          "data": {
            "image/png": "[encoded data removed]",
            "text/plain": [
              "<Figure size 432x288 with 1 Axes>"
            ]
          },
          "metadata": {
            "tags": [],
            "needs_background": "light"
          }
        }
      ]
    },
    {
      "cell_type": "code",
      "metadata": {
        "id": "_wFGijPPzOu5"
      },
      "source": [
        ""
      ],
      "execution_count": null,
      "outputs": []
    }
  ]
}