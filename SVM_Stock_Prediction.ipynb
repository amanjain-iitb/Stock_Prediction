{
  "nbformat": 4,
  "nbformat_minor": 0,
  "metadata": {
    "colab": {
      "name": "SVM_Stock_Prediction.ipynb",
      "provenance": [],
      "collapsed_sections": [],
      "include_colab_link": true
    },
    "kernelspec": {
      "name": "python3",
      "display_name": "Python 3"
    },
    "language_info": {
      "name": "python"
    }
  },
  "cells": [
    {
      "cell_type": "markdown",
      "metadata": {
        "id": "view-in-github",
        "colab_type": "text"
      },
      "source": [
        "<a href=\"https://colab.research.google.com/github/amanjain-iitb/Stock_Prediction/blob/main/SVM_Stock_Prediction.ipynb\" target=\"_parent\"><img src=\"https://colab.research.google.com/assets/colab-badge.svg\" alt=\"Open In Colab\"/></a>"
      ]
    },
    {
      "cell_type": "code",
      "metadata": {
        "id": "-2LM72vPEbqM"
      },
      "source": [
        "import numpy as np\n",
        "from sklearn.svm import SVR \n",
        "import matplotlib.pyplot as plt \n",
        "import pandas as pd "
      ],
      "execution_count": 9,
      "outputs": []
    },
    {
      "cell_type": "code",
      "metadata": {
        "id": "YHb1QkE_IwDC",
        "colab": {
          "base_uri": "https://localhost:8080/"
        },
        "outputId": "09674471-e437-4e06-9a35-633889c92c8d"
      },
      "source": [
        "from google.colab import drive\n",
        "drive.mount('/content/drive')"
      ],
      "execution_count": 10,
      "outputs": [
        {
          "output_type": "stream",
          "text": [
            "Mounted at /content/drive\n"
          ],
          "name": "stdout"
        }
      ]
    },
    {
      "cell_type": "code",
      "metadata": {
        "colab": {
          "base_uri": "https://localhost:8080/",
          "height": 206
        },
        "id": "Xs2nwXUsEgtj",
        "outputId": "0b8e64b0-2074-49c3-9756-b71a23400794"
      },
      "source": [
        "df = pd.read_csv('/content/drive/My Drive/stock_data/NSEI.csv')\n",
        "df.head()"
      ],
      "execution_count": 12,
      "outputs": [
        {
          "output_type": "execute_result",
          "data": {
            "text/html": [
              "<div>\n",
              "<style scoped>\n",
              "    .dataframe tbody tr th:only-of-type {\n",
              "        vertical-align: middle;\n",
              "    }\n",
              "\n",
              "    .dataframe tbody tr th {\n",
              "        vertical-align: top;\n",
              "    }\n",
              "\n",
              "    .dataframe thead th {\n",
              "        text-align: right;\n",
              "    }\n",
              "</style>\n",
              "<table border=\"1\" class=\"dataframe\">\n",
              "  <thead>\n",
              "    <tr style=\"text-align: right;\">\n",
              "      <th></th>\n",
              "      <th>Date</th>\n",
              "      <th>Open</th>\n",
              "      <th>High</th>\n",
              "      <th>Low</th>\n",
              "      <th>Close</th>\n",
              "      <th>Adj Close</th>\n",
              "      <th>Volume</th>\n",
              "    </tr>\n",
              "  </thead>\n",
              "  <tbody>\n",
              "    <tr>\n",
              "      <th>0</th>\n",
              "      <td>2020-06-29</td>\n",
              "      <td>10311.950195</td>\n",
              "      <td>10337.950195</td>\n",
              "      <td>10223.599609</td>\n",
              "      <td>10312.400391</td>\n",
              "      <td>10312.400391</td>\n",
              "      <td>574500.0</td>\n",
              "    </tr>\n",
              "    <tr>\n",
              "      <th>1</th>\n",
              "      <td>2020-06-30</td>\n",
              "      <td>10382.599609</td>\n",
              "      <td>10401.049805</td>\n",
              "      <td>10267.349609</td>\n",
              "      <td>10302.099609</td>\n",
              "      <td>10302.099609</td>\n",
              "      <td>556200.0</td>\n",
              "    </tr>\n",
              "    <tr>\n",
              "      <th>2</th>\n",
              "      <td>2020-07-01</td>\n",
              "      <td>10323.799805</td>\n",
              "      <td>10447.049805</td>\n",
              "      <td>10299.599609</td>\n",
              "      <td>10430.049805</td>\n",
              "      <td>10430.049805</td>\n",
              "      <td>573600.0</td>\n",
              "    </tr>\n",
              "    <tr>\n",
              "      <th>3</th>\n",
              "      <td>2020-07-02</td>\n",
              "      <td>10493.049805</td>\n",
              "      <td>10598.200195</td>\n",
              "      <td>10485.549805</td>\n",
              "      <td>10551.700195</td>\n",
              "      <td>10551.700195</td>\n",
              "      <td>597400.0</td>\n",
              "    </tr>\n",
              "    <tr>\n",
              "      <th>4</th>\n",
              "      <td>2020-07-03</td>\n",
              "      <td>10614.950195</td>\n",
              "      <td>10631.299805</td>\n",
              "      <td>10562.650391</td>\n",
              "      <td>10607.349609</td>\n",
              "      <td>10607.349609</td>\n",
              "      <td>525200.0</td>\n",
              "    </tr>\n",
              "  </tbody>\n",
              "</table>\n",
              "</div>"
            ],
            "text/plain": [
              "         Date          Open          High  ...         Close     Adj Close    Volume\n",
              "0  2020-06-29  10311.950195  10337.950195  ...  10312.400391  10312.400391  574500.0\n",
              "1  2020-06-30  10382.599609  10401.049805  ...  10302.099609  10302.099609  556200.0\n",
              "2  2020-07-01  10323.799805  10447.049805  ...  10430.049805  10430.049805  573600.0\n",
              "3  2020-07-02  10493.049805  10598.200195  ...  10551.700195  10551.700195  597400.0\n",
              "4  2020-07-03  10614.950195  10631.299805  ...  10607.349609  10607.349609  525200.0\n",
              "\n",
              "[5 rows x 7 columns]"
            ]
          },
          "metadata": {
            "tags": []
          },
          "execution_count": 12
        }
      ]
    },
    {
      "cell_type": "code",
      "metadata": {
        "colab": {
          "base_uri": "https://localhost:8080/"
        },
        "id": "1xh0hcNlLy0Q",
        "outputId": "af08db0a-582f-4f26-886f-a7f506aad1bd"
      },
      "source": [
        "df = df.dropna()\n",
        "df.info()"
      ],
      "execution_count": 13,
      "outputs": [
        {
          "output_type": "stream",
          "text": [
            "<class 'pandas.core.frame.DataFrame'>\n",
            "Int64Index: 248 entries, 0 to 249\n",
            "Data columns (total 7 columns):\n",
            " #   Column     Non-Null Count  Dtype  \n",
            "---  ------     --------------  -----  \n",
            " 0   Date       248 non-null    object \n",
            " 1   Open       248 non-null    float64\n",
            " 2   High       248 non-null    float64\n",
            " 3   Low        248 non-null    float64\n",
            " 4   Close      248 non-null    float64\n",
            " 5   Adj Close  248 non-null    float64\n",
            " 6   Volume     248 non-null    float64\n",
            "dtypes: float64(6), object(1)\n",
            "memory usage: 15.5+ KB\n"
          ],
          "name": "stdout"
        }
      ]
    },
    {
      "cell_type": "code",
      "metadata": {
        "id": "VgLtexT7Jbb9"
      },
      "source": [
        "data = pd.DataFrame()\n",
        "data['day'] = pd.to_numeric(df['Date'].str.split('-').str[2])\n",
        "data['month'] = pd.to_numeric(df['Date'].str.split('-').str[1])\n",
        "data['year'] = pd.to_numeric(df['Date'].str.split('-').str[0])\n",
        "data['prices'] = df['Close']"
      ],
      "execution_count": 14,
      "outputs": []
    },
    {
      "cell_type": "code",
      "metadata": {
        "id": "B_z5bX7BGc9l",
        "colab": {
          "base_uri": "https://localhost:8080/",
          "height": 295
        },
        "outputId": "b9c7d5dd-08f9-4261-a7df-3c5d7f6faee4"
      },
      "source": [
        "dates = data.drop('prices', axis = 1)\n",
        "prices = data['prices']\n",
        "\n",
        "svr_lin  = SVR(kernel='linear', C=1e3)\n",
        "svr_poly = SVR(kernel='poly', C=1e3, degree=10)\n",
        "svr_rbf = SVR(kernel='rbf', C=1e3, gamma=0.1)\n",
        "\n",
        "# Fit regression model\n",
        "svr_lin.fit(dates, prices)\n",
        "svr_poly.fit(dates, prices)\n",
        "svr_rbf.fit(dates, prices)\n",
        "\n",
        "plt.scatter(df['Date'], prices, c='k', label='Data')\n",
        "plt.plot(df['Date'], svr_lin.predict(dates), c='g', label='Linear model')\n",
        "plt.plot(df['Date'], svr_rbf.predict(dates), c='r', label='RBF model')    \n",
        "plt.plot(df['Date'], svr_poly.predict(dates), c='b', label='Polynomial model')\n",
        "\n",
        "plt.xlabel('Date')\n",
        "plt.ylabel('Price')\n",
        "plt.title('Support Vector Regression')\n",
        "plt.legend()\n",
        "plt.show()"
      ],
      "execution_count": 15,
      "outputs": [
        {
          "output_type": "display_data",
          "data": {
            "image/png": "[encoded data removed]",
            "text/plain": [
              "<Figure size 432x288 with 1 Axes>"
            ]
          },
          "metadata": {
            "tags": [],
            "needs_background": "light"
          }
        }
      ]
    }
  ]
}