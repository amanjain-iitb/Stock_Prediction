{
  "nbformat": 4,
  "nbformat_minor": 0,
  "metadata": {
    "colab": {
      "name": "Stock_Indicators.ipynb",
      "provenance": [],
      "authorship_tag": "ABX9TyMcbXqcFFvPzmdPVE+ZHn/i",
      "include_colab_link": true
    },
    "kernelspec": {
      "name": "python3",
      "display_name": "Python 3"
    },
    "language_info": {
      "name": "python"
    }
  },
  "cells": [
    {
      "cell_type": "markdown",
      "metadata": {
        "id": "view-in-github",
        "colab_type": "text"
      },
      "source": [
        "<a href=\"https://colab.research.google.com/github/amanjain-iitb/Stock_Prediction/blob/main/Stock_Indicators.ipynb\" target=\"_parent\"><img src=\"https://colab.research.google.com/assets/colab-badge.svg\" alt=\"Open In Colab\"/></a>"
      ]
    },
    {
      "cell_type": "code",
      "metadata": {
        "id": "mtFlixuC31Vj"
      },
      "source": [
        "import numpy as np\n",
        "import pandas as pd\n",
        "import matplotlib.pyplot as plt"
      ],
      "execution_count": null,
      "outputs": []
    },
    {
      "cell_type": "code",
      "metadata": {
        "colab": {
          "base_uri": "https://localhost:8080/"
        },
        "id": "745Jz0tx5Mo3",
        "outputId": "ce15c6a2-598b-4248-e020-3df67586646b"
      },
      "source": [
        "from google.colab import drive\n",
        "drive.mount('/content/gdrive')"
      ],
      "execution_count": null,
      "outputs": [
        {
          "output_type": "stream",
          "text": [
            "Mounted at /content/gdrive\n"
          ],
          "name": "stdout"
        }
      ]
    },
    {
      "cell_type": "code",
      "metadata": {
        "id": "k5yJtfL1uDFF"
      },
      "source": [
        "df = pd.read_csv('/content/gdrive/My Drive/stock_data/Nifty(1.04.19-30.05.21).csv')"
      ],
      "execution_count": null,
      "outputs": []
    },
    {
      "cell_type": "code",
      "metadata": {
        "id": "Mj8WU4pR9Wa-",
        "colab": {
          "base_uri": "https://localhost:8080/",
          "height": 424
        },
        "outputId": "6a9735a1-57c7-4c2b-b5d6-1b3d32330fbe"
      },
      "source": [
        "df=df.set_index(pd.DatetimeIndex(df['Date'].values))\n",
        "df"
      ],
      "execution_count": null,
      "outputs": [
        {
          "output_type": "execute_result",
          "data": {
            "text/html": [
              "<div>\n",
              "<style scoped>\n",
              "    .dataframe tbody tr th:only-of-type {\n",
              "        vertical-align: middle;\n",
              "    }\n",
              "\n",
              "    .dataframe tbody tr th {\n",
              "        vertical-align: top;\n",
              "    }\n",
              "\n",
              "    .dataframe thead th {\n",
              "        text-align: right;\n",
              "    }\n",
              "</style>\n",
              "<table border=\"1\" class=\"dataframe\">\n",
              "  <thead>\n",
              "    <tr style=\"text-align: right;\">\n",
              "      <th></th>\n",
              "      <th>Date</th>\n",
              "      <th>Open</th>\n",
              "      <th>High</th>\n",
              "      <th>Low</th>\n",
              "      <th>Close</th>\n",
              "      <th>Volume</th>\n",
              "    </tr>\n",
              "  </thead>\n",
              "  <tbody>\n",
              "    <tr>\n",
              "      <th>2019-04-01</th>\n",
              "      <td>01-Apr-19</td>\n",
              "      <td>11665.20</td>\n",
              "      <td>11738.10</td>\n",
              "      <td>11644.75</td>\n",
              "      <td>11669.15</td>\n",
              "      <td>379572660</td>\n",
              "    </tr>\n",
              "    <tr>\n",
              "      <th>2019-04-02</th>\n",
              "      <td>02-Apr-19</td>\n",
              "      <td>11711.55</td>\n",
              "      <td>11729.35</td>\n",
              "      <td>11655.85</td>\n",
              "      <td>11713.20</td>\n",
              "      <td>386131413</td>\n",
              "    </tr>\n",
              "    <tr>\n",
              "      <th>2019-04-03</th>\n",
              "      <td>03-Apr-19</td>\n",
              "      <td>11735.30</td>\n",
              "      <td>11761.00</td>\n",
              "      <td>11629.15</td>\n",
              "      <td>11643.95</td>\n",
              "      <td>365760070</td>\n",
              "    </tr>\n",
              "    <tr>\n",
              "      <th>2019-04-04</th>\n",
              "      <td>04-Apr-19</td>\n",
              "      <td>11660.20</td>\n",
              "      <td>11662.55</td>\n",
              "      <td>11559.20</td>\n",
              "      <td>11598.00</td>\n",
              "      <td>349029830</td>\n",
              "    </tr>\n",
              "    <tr>\n",
              "      <th>2019-04-05</th>\n",
              "      <td>05-Apr-19</td>\n",
              "      <td>11638.40</td>\n",
              "      <td>11689.65</td>\n",
              "      <td>11609.50</td>\n",
              "      <td>11665.95</td>\n",
              "      <td>266665797</td>\n",
              "    </tr>\n",
              "    <tr>\n",
              "      <th>...</th>\n",
              "      <td>...</td>\n",
              "      <td>...</td>\n",
              "      <td>...</td>\n",
              "      <td>...</td>\n",
              "      <td>...</td>\n",
              "      <td>...</td>\n",
              "    </tr>\n",
              "    <tr>\n",
              "      <th>2021-06-24</th>\n",
              "      <td>24-Jun-21</td>\n",
              "      <td>15737.30</td>\n",
              "      <td>15821.40</td>\n",
              "      <td>15702.70</td>\n",
              "      <td>15790.45</td>\n",
              "      <td>316662241</td>\n",
              "    </tr>\n",
              "    <tr>\n",
              "      <th>2021-06-25</th>\n",
              "      <td>25-Jun-21</td>\n",
              "      <td>15839.35</td>\n",
              "      <td>15870.80</td>\n",
              "      <td>15772.30</td>\n",
              "      <td>15860.35</td>\n",
              "      <td>314614380</td>\n",
              "    </tr>\n",
              "    <tr>\n",
              "      <th>2021-06-28</th>\n",
              "      <td>28-Jun-21</td>\n",
              "      <td>15915.35</td>\n",
              "      <td>15915.65</td>\n",
              "      <td>15792.15</td>\n",
              "      <td>15814.70</td>\n",
              "      <td>255099272</td>\n",
              "    </tr>\n",
              "    <tr>\n",
              "      <th>2021-06-29</th>\n",
              "      <td>29-Jun-21</td>\n",
              "      <td>15807.50</td>\n",
              "      <td>15835.90</td>\n",
              "      <td>15724.05</td>\n",
              "      <td>15748.45</td>\n",
              "      <td>360334724</td>\n",
              "    </tr>\n",
              "    <tr>\n",
              "      <th>2021-06-30</th>\n",
              "      <td>30-Jun-21</td>\n",
              "      <td>15776.90</td>\n",
              "      <td>15839.10</td>\n",
              "      <td>15708.75</td>\n",
              "      <td>15721.50</td>\n",
              "      <td>262386323</td>\n",
              "    </tr>\n",
              "  </tbody>\n",
              "</table>\n",
              "<p>557 rows × 6 columns</p>\n",
              "</div>"
            ],
            "text/plain": [
              "                 Date      Open      High       Low     Close     Volume\n",
              "2019-04-01  01-Apr-19  11665.20  11738.10  11644.75  11669.15  379572660\n",
              "2019-04-02  02-Apr-19  11711.55  11729.35  11655.85  11713.20  386131413\n",
              "2019-04-03  03-Apr-19  11735.30  11761.00  11629.15  11643.95  365760070\n",
              "2019-04-04  04-Apr-19  11660.20  11662.55  11559.20  11598.00  349029830\n",
              "2019-04-05  05-Apr-19  11638.40  11689.65  11609.50  11665.95  266665797\n",
              "...               ...       ...       ...       ...       ...        ...\n",
              "2021-06-24  24-Jun-21  15737.30  15821.40  15702.70  15790.45  316662241\n",
              "2021-06-25  25-Jun-21  15839.35  15870.80  15772.30  15860.35  314614380\n",
              "2021-06-28  28-Jun-21  15915.35  15915.65  15792.15  15814.70  255099272\n",
              "2021-06-29  29-Jun-21  15807.50  15835.90  15724.05  15748.45  360334724\n",
              "2021-06-30  30-Jun-21  15776.90  15839.10  15708.75  15721.50  262386323\n",
              "\n",
              "[557 rows x 6 columns]"
            ]
          },
          "metadata": {
            "tags": []
          },
          "execution_count": 5
        }
      ]
    },
    {
      "cell_type": "code",
      "metadata": {
        "id": "Uk0BjLNZSnqK"
      },
      "source": [
        "#Simple Moving Average\n",
        "def SMA(data, period=30, column='Close'):\n",
        "  return data[column].rolling(window=period).mean()\n",
        "#Exponential Moving Average\n",
        "def EMA(data, period=20, column='Close'):\n",
        "  return data[column].ewm(span=period, adjust=False).mean()  "
      ],
      "execution_count": null,
      "outputs": []
    },
    {
      "cell_type": "code",
      "metadata": {
        "id": "VQpOdLbLTi7Q"
      },
      "source": [
        "#Moving Average COnvergence/Divergence\n",
        "def MACD(data, period_long=26, period_short=12, period_signal=9, column='Close'):\n",
        "  shortEMA = EMA(data,period_short,column=column)\n",
        "  longEMA = EMA(data,period_long,column=column)\n",
        "  data['MACD']=shortEMA-longEMA\n",
        "  data['Signal_Line']= EMA(data,period_signal,column='MACD')\n",
        "  return data  "
      ],
      "execution_count": null,
      "outputs": []
    },
    {
      "cell_type": "code",
      "metadata": {
        "id": "Fy4Yz_giXiIS"
      },
      "source": [
        "#RSI\n",
        "def RSI(data, period=14, column='Close'):\n",
        "  delta = data[column].diff(1)\n",
        "  delta = delta[1:]\n",
        "  up = delta.copy()\n",
        "  down = delta.copy()\n",
        "  up[up<0]=0\n",
        "  down[down>0]=0\n",
        "  data['up'] = up\n",
        "  data['down']=down\n",
        "  avg_gain = SMA(data, period, column='up')\n",
        "  avg_loss = SMA(data, period, column='down')\n",
        "  RSI = 100.0 - (100.0/(1.0+avg_gain/avg_loss))\n",
        "  data['RSI']=RSI\n",
        "  return data"
      ],
      "execution_count": null,
      "outputs": []
    },
    {
      "cell_type": "code",
      "metadata": {
        "id": "KLiGQiq6ap34"
      },
      "source": [
        "MACD(df)\n",
        "RSI(df)\n",
        "df['SMA']=SMA(df)\n",
        "df['EMA']=EMA(df)"
      ],
      "execution_count": null,
      "outputs": []
    },
    {
      "cell_type": "code",
      "metadata": {
        "colab": {
          "base_uri": "https://localhost:8080/",
          "height": 424
        },
        "id": "QUbux06wa3H1",
        "outputId": "f897999b-068a-42f9-87be-06084e02252b"
      },
      "source": [
        "df"
      ],
      "execution_count": null,
      "outputs": [
        {
          "output_type": "execute_result",
          "data": {
            "text/html": [
              "<div>\n",
              "<style scoped>\n",
              "    .dataframe tbody tr th:only-of-type {\n",
              "        vertical-align: middle;\n",
              "    }\n",
              "\n",
              "    .dataframe tbody tr th {\n",
              "        vertical-align: top;\n",
              "    }\n",
              "\n",
              "    .dataframe thead th {\n",
              "        text-align: right;\n",
              "    }\n",
              "</style>\n",
              "<table border=\"1\" class=\"dataframe\">\n",
              "  <thead>\n",
              "    <tr style=\"text-align: right;\">\n",
              "      <th></th>\n",
              "      <th>Date</th>\n",
              "      <th>Open</th>\n",
              "      <th>High</th>\n",
              "      <th>Low</th>\n",
              "      <th>Close</th>\n",
              "      <th>Volume</th>\n",
              "      <th>MACD</th>\n",
              "      <th>Signal_Line</th>\n",
              "      <th>up</th>\n",
              "      <th>down</th>\n",
              "      <th>RSI</th>\n",
              "      <th>SMA</th>\n",
              "      <th>EMA</th>\n",
              "    </tr>\n",
              "  </thead>\n",
              "  <tbody>\n",
              "    <tr>\n",
              "      <th>2019-04-01</th>\n",
              "      <td>01-Apr-19</td>\n",
              "      <td>11665.20</td>\n",
              "      <td>11738.10</td>\n",
              "      <td>11644.75</td>\n",
              "      <td>11669.15</td>\n",
              "      <td>379572660</td>\n",
              "      <td>0.000000</td>\n",
              "      <td>0.000000</td>\n",
              "      <td>NaN</td>\n",
              "      <td>NaN</td>\n",
              "      <td>NaN</td>\n",
              "      <td>NaN</td>\n",
              "      <td>11669.150000</td>\n",
              "    </tr>\n",
              "    <tr>\n",
              "      <th>2019-04-02</th>\n",
              "      <td>02-Apr-19</td>\n",
              "      <td>11711.55</td>\n",
              "      <td>11729.35</td>\n",
              "      <td>11655.85</td>\n",
              "      <td>11713.20</td>\n",
              "      <td>386131413</td>\n",
              "      <td>3.513960</td>\n",
              "      <td>0.702792</td>\n",
              "      <td>44.05</td>\n",
              "      <td>0.00</td>\n",
              "      <td>NaN</td>\n",
              "      <td>NaN</td>\n",
              "      <td>11673.345238</td>\n",
              "    </tr>\n",
              "    <tr>\n",
              "      <th>2019-04-03</th>\n",
              "      <td>03-Apr-19</td>\n",
              "      <td>11735.30</td>\n",
              "      <td>11761.00</td>\n",
              "      <td>11629.15</td>\n",
              "      <td>11643.95</td>\n",
              "      <td>365760070</td>\n",
              "      <td>0.702801</td>\n",
              "      <td>0.702794</td>\n",
              "      <td>0.00</td>\n",
              "      <td>-69.25</td>\n",
              "      <td>NaN</td>\n",
              "      <td>NaN</td>\n",
              "      <td>11670.545692</td>\n",
              "    </tr>\n",
              "    <tr>\n",
              "      <th>2019-04-04</th>\n",
              "      <td>04-Apr-19</td>\n",
              "      <td>11660.20</td>\n",
              "      <td>11662.55</td>\n",
              "      <td>11559.20</td>\n",
              "      <td>11598.00</td>\n",
              "      <td>349029830</td>\n",
              "      <td>-5.173210</td>\n",
              "      <td>-0.472407</td>\n",
              "      <td>0.00</td>\n",
              "      <td>-45.95</td>\n",
              "      <td>NaN</td>\n",
              "      <td>NaN</td>\n",
              "      <td>11663.636578</td>\n",
              "    </tr>\n",
              "    <tr>\n",
              "      <th>2019-04-05</th>\n",
              "      <td>05-Apr-19</td>\n",
              "      <td>11638.40</td>\n",
              "      <td>11689.65</td>\n",
              "      <td>11609.50</td>\n",
              "      <td>11665.95</td>\n",
              "      <td>266665797</td>\n",
              "      <td>-4.297456</td>\n",
              "      <td>-1.237417</td>\n",
              "      <td>67.95</td>\n",
              "      <td>0.00</td>\n",
              "      <td>NaN</td>\n",
              "      <td>NaN</td>\n",
              "      <td>11663.856904</td>\n",
              "    </tr>\n",
              "    <tr>\n",
              "      <th>...</th>\n",
              "      <td>...</td>\n",
              "      <td>...</td>\n",
              "      <td>...</td>\n",
              "      <td>...</td>\n",
              "      <td>...</td>\n",
              "      <td>...</td>\n",
              "      <td>...</td>\n",
              "      <td>...</td>\n",
              "      <td>...</td>\n",
              "      <td>...</td>\n",
              "      <td>...</td>\n",
              "      <td>...</td>\n",
              "      <td>...</td>\n",
              "    </tr>\n",
              "    <tr>\n",
              "      <th>2021-06-24</th>\n",
              "      <td>24-Jun-21</td>\n",
              "      <td>15737.30</td>\n",
              "      <td>15821.40</td>\n",
              "      <td>15702.70</td>\n",
              "      <td>15790.45</td>\n",
              "      <td>316662241</td>\n",
              "      <td>163.796375</td>\n",
              "      <td>195.714056</td>\n",
              "      <td>103.50</td>\n",
              "      <td>0.00</td>\n",
              "      <td>422.795341</td>\n",
              "      <td>15496.011667</td>\n",
              "      <td>15627.393760</td>\n",
              "    </tr>\n",
              "    <tr>\n",
              "      <th>2021-06-25</th>\n",
              "      <td>25-Jun-21</td>\n",
              "      <td>15839.35</td>\n",
              "      <td>15870.80</td>\n",
              "      <td>15772.30</td>\n",
              "      <td>15860.35</td>\n",
              "      <td>314614380</td>\n",
              "      <td>163.161869</td>\n",
              "      <td>189.203619</td>\n",
              "      <td>69.90</td>\n",
              "      <td>0.00</td>\n",
              "      <td>456.945722</td>\n",
              "      <td>15535.430000</td>\n",
              "      <td>15649.580068</td>\n",
              "    </tr>\n",
              "    <tr>\n",
              "      <th>2021-06-28</th>\n",
              "      <td>28-Jun-21</td>\n",
              "      <td>15915.35</td>\n",
              "      <td>15915.65</td>\n",
              "      <td>15792.15</td>\n",
              "      <td>15814.70</td>\n",
              "      <td>255099272</td>\n",
              "      <td>157.163760</td>\n",
              "      <td>182.795647</td>\n",
              "      <td>0.00</td>\n",
              "      <td>-45.65</td>\n",
              "      <td>665.817694</td>\n",
              "      <td>15565.148333</td>\n",
              "      <td>15665.305776</td>\n",
              "    </tr>\n",
              "    <tr>\n",
              "      <th>2021-06-29</th>\n",
              "      <td>29-Jun-21</td>\n",
              "      <td>15807.50</td>\n",
              "      <td>15835.90</td>\n",
              "      <td>15724.05</td>\n",
              "      <td>15748.45</td>\n",
              "      <td>360334724</td>\n",
              "      <td>145.388446</td>\n",
              "      <td>175.314207</td>\n",
              "      <td>0.00</td>\n",
              "      <td>-66.25</td>\n",
              "      <td>439.168877</td>\n",
              "      <td>15586.493333</td>\n",
              "      <td>15673.224274</td>\n",
              "    </tr>\n",
              "    <tr>\n",
              "      <th>2021-06-30</th>\n",
              "      <td>30-Jun-21</td>\n",
              "      <td>15776.90</td>\n",
              "      <td>15839.10</td>\n",
              "      <td>15708.75</td>\n",
              "      <td>15721.50</td>\n",
              "      <td>262386323</td>\n",
              "      <td>132.356067</td>\n",
              "      <td>166.722579</td>\n",
              "      <td>0.00</td>\n",
              "      <td>-26.95</td>\n",
              "      <td>-2426.461538</td>\n",
              "      <td>15609.538333</td>\n",
              "      <td>15677.821962</td>\n",
              "    </tr>\n",
              "  </tbody>\n",
              "</table>\n",
              "<p>557 rows × 13 columns</p>\n",
              "</div>"
            ],
            "text/plain": [
              "                 Date      Open  ...           SMA           EMA\n",
              "2019-04-01  01-Apr-19  11665.20  ...           NaN  11669.150000\n",
              "2019-04-02  02-Apr-19  11711.55  ...           NaN  11673.345238\n",
              "2019-04-03  03-Apr-19  11735.30  ...           NaN  11670.545692\n",
              "2019-04-04  04-Apr-19  11660.20  ...           NaN  11663.636578\n",
              "2019-04-05  05-Apr-19  11638.40  ...           NaN  11663.856904\n",
              "...               ...       ...  ...           ...           ...\n",
              "2021-06-24  24-Jun-21  15737.30  ...  15496.011667  15627.393760\n",
              "2021-06-25  25-Jun-21  15839.35  ...  15535.430000  15649.580068\n",
              "2021-06-28  28-Jun-21  15915.35  ...  15565.148333  15665.305776\n",
              "2021-06-29  29-Jun-21  15807.50  ...  15586.493333  15673.224274\n",
              "2021-06-30  30-Jun-21  15776.90  ...  15609.538333  15677.821962\n",
              "\n",
              "[557 rows x 13 columns]"
            ]
          },
          "metadata": {
            "tags": []
          },
          "execution_count": 10
        }
      ]
    },
    {
      "cell_type": "code",
      "metadata": {
        "colab": {
          "base_uri": "https://localhost:8080/",
          "height": 266
        },
        "id": "sw1db0sibizT",
        "outputId": "49c12dce-1de9-4127-acc4-295821bc0f7e"
      },
      "source": [
        "column_list=['MACD','Signal_Line']\n",
        "df[column_list].plot()\n",
        "plt.show()"
      ],
      "execution_count": null,
      "outputs": [
        {
          "output_type": "display_data",
          "data": {
            "image/png": "[encoded data removed]",
            "text/plain": [
              "<Figure size 432x288 with 1 Axes>"
            ]
          },
          "metadata": {
            "tags": [],
            "needs_background": "light"
          }
        }
      ]
    },
    {
      "cell_type": "code",
      "metadata": {
        "colab": {
          "base_uri": "https://localhost:8080/",
          "height": 263
        },
        "id": "Qln9diijcFFF",
        "outputId": "9a1afbb9-7881-497b-fa69-a575a2bd8691"
      },
      "source": [
        "column_list=['EMA','Close']\n",
        "df[column_list].plot()\n",
        "plt.show()"
      ],
      "execution_count": null,
      "outputs": [
        {
          "output_type": "display_data",
          "data": {
            "image/png": "[encoded data removed]",
            "text/plain": [
              "<Figure size 432x288 with 1 Axes>"
            ]
          },
          "metadata": {
            "tags": [],
            "needs_background": "light"
          }
        }
      ]
    },
    {
      "cell_type": "code",
      "metadata": {
        "colab": {
          "base_uri": "https://localhost:8080/",
          "height": 263
        },
        "id": "HnkTww2BcUG3",
        "outputId": "a677e7da-9f6b-449c-e713-88dc7acddc8d"
      },
      "source": [
        "df['RSI'].plot()\n",
        "plt.show()"
      ],
      "execution_count": null,
      "outputs": [
        {
          "output_type": "display_data",
          "data": {
            "image/png": "[encoded data removed]",
            "text/plain": [
              "<Figure size 432x288 with 1 Axes>"
            ]
          },
          "metadata": {
            "tags": [],
            "needs_background": "light"
          }
        }
      ]
    }
  ]
}